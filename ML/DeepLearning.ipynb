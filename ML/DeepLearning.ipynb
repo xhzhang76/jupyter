{
 "cells": [
  {
   "cell_type": "markdown",
   "metadata": {},
   "source": [
    "# ch01"
   ]
  },
  {
   "cell_type": "code",
   "execution_count": 18,
   "metadata": {},
   "outputs": [
    {
     "name": "stdout",
     "output_type": "stream",
     "text": [
      "[1. 2. 3.]\n",
      "<class 'numpy.ndarray'>\n",
      "[3. 6. 9.]\n",
      "[-1. -2. -3.]\n",
      "[ 2.  8. 18.]\n",
      "[0.5 0.5 0.5]\n",
      "[0.5 1.  1.5]\n",
      "[[1 2]\n",
      " [3 4]]\n",
      "(2, 2)\n",
      "int64\n",
      "[[ 4  4]\n",
      " [ 8 10]]\n",
      "[[-2  0]\n",
      " [-2 -2]]\n",
      "[[ 3  4]\n",
      " [15 24]]\n",
      "[[0.33333333 1.        ]\n",
      " [0.6        0.66666667]]\n",
      "[[10 20]\n",
      " [30 40]]\n",
      "[[10 40]\n",
      " [30 80]]\n",
      "[ 50 110]\n",
      "[ 50 110]\n",
      "[[22 28]\n",
      " [49 64]]\n",
      "(3, 2)\n",
      "2\n",
      "[51 55]\n",
      "55\n",
      "[[51 55]\n",
      " [14 19]\n",
      " [ 0  4]]\n",
      "[[51 55]\n",
      " [14 19]\n",
      " [ 0  4]]\n",
      "[[51 55]\n",
      " [14 19]\n",
      " [ 0  4]]\n",
      "[51 55 14 19  0  4]\n",
      "[51 14  0]\n",
      "[ True  True False  True False False]\n",
      "[51 55 19]\n"
     ]
    }
   ],
   "source": [
    "import numpy as np\n",
    "x = np.array([1.0, 2.0, 3.0])\n",
    "print(x)\n",
    "print(type(x))     # numpy.ndarray\n",
    "# numpy算术运算\n",
    "x = np.array([1.0, 2.0, 3.0])\n",
    "y = np.array([2.0, 4.0, 6.0])\n",
    "print(x + y)    # [3. 6. 9.]\n",
    "print(x - y)    # [-1. -2. -3.]\n",
    "print(x * y)    # [ 2.  8. 18.]\n",
    "print(x / y)    # [0.5 0.5 0.5]\n",
    "print(x / 2)    # [0.5 1.  1.5]\n",
    "\n",
    "# 多维矩阵\n",
    "A = np.array([[1, 2], [3, 4]])\n",
    "print(A)\n",
    "print(A.shape)    # (2, 2)\n",
    "print(A.dtype)    # int64\n",
    "B = np.array([[3, 2], [5, 6]])\n",
    "print(A + B)    # [[ 4  4] [ 8 10]]\n",
    "print(A - B)    # [[-2  0] [-2 -2]]\n",
    "print(A * B)    # [[ 3  4] [15 24]]\n",
    "print(A / B)    # [[0.33333333 1.        ] [0.6        0.66666667]]\n",
    "# broadcast\n",
    "print(A * 10)    # [[10 20] [30 40]]\n",
    "# 一维：向量 二维：矩阵 三维及以上：张量\n",
    "# 层 行 列\n",
    "A = np.array([[1, 2], [3, 4]])\n",
    "B = np.array([10, 20])\n",
    "B1 = np.array([[10], [20]])\n",
    "print(A * B)    # [[10 40] [30 80]]\n",
    "print(np.dot(A, B)) #[50, 110] :  \n",
    "print(np.dot(A, B)) #[50, 110] : 1X10+2X10, 3X10+4X20 \n",
    "A = np.array([[1,2,3], [4,5,6]])\n",
    "B = np.array([[1,2], [3,4], [5,6]])\n",
    "print(np.dot(A, B))    #[[22 28][49 64]]  1X1+2X3+3X5 1X2+2X4+3X6 4X1+5X3+6X5 4X2+5X4+6X6\n",
    "\n",
    "# access element\n",
    "x = np.array([[51, 55], [14, 19], [0, 4]])\n",
    "print(x.shape)    # (3, 2)\n",
    "print(np.ndim(x)) # 2 二维\n",
    "print(x[0])       # 0行 【51， 55】\n",
    "print(x[0, 1])    # 55\n",
    "for row in x:\n",
    "    print(x)\n",
    "x = x.flatten()\n",
    "print(x)    # [51 55 14 19  0  4]\n",
    "print(x[np.array([0, 2, 4])])    # [51 14  0]\n",
    "print(x > 15)    # [ True  True False  True False False]\n",
    "print(x[x > 15]) # [51 55 19]"
   ]
  },
  {
   "cell_type": "code",
   "execution_count": null,
   "metadata": {},
   "outputs": [],
   "source": [
    "import numpy as np\n",
    "import matplotlib.pyplot as plt\n",
    "x = np.arange(0, 6, 0.01)\n",
    "y = np.sin(x)\n",
    "plt.plot(x, y)\n",
    "plt.show()"
   ]
  },
  {
   "cell_type": "code",
   "execution_count": null,
   "metadata": {},
   "outputs": [],
   "source": [
    "import numpy as np\n",
    "import matplotlib.pyplot as plt\n",
    "\n",
    "x = np.arange(0, 6, 0.1)\n",
    "y1 = np.sin(x)\n",
    "y2 = np.cos(x)\n",
    "\n",
    "plt.plot(x, y1, label=\"sin\")\n",
    "plt.plot(x, y2, label=\"cos\")\n",
    "plt.xlabel(\"x\")\n",
    "plt.ylabel(\"y\")\n",
    "plt.title(\"sin & cos\")\n",
    "plt.legend()\n",
    "plt.show()"
   ]
  },
  {
   "cell_type": "code",
   "execution_count": 6,
   "metadata": {},
   "outputs": [
    {
     "data": {
      "image/png": "[encoded data removed]",
      "text/plain": [
       "<Figure size 432x288 with 1 Axes>"
      ]
     },
     "metadata": {},
     "output_type": "display_data"
    }
   ],
   "source": [
    "import matplotlib.pyplot as plt\n",
    "from matplotlib.image import imread\n",
    "img = imread(\"test.jpg\")\n",
    "plt.imshow(img)\n",
    "plt.show()"
   ]
  },
  {
   "cell_type": "markdown",
   "metadata": {},
   "source": [
    "# ch02 感知机"
   ]
  },
  {
   "cell_type": "code",
   "execution_count": 1,
   "metadata": {},
   "outputs": [
    {
     "name": "stdout",
     "output_type": "stream",
     "text": [
      "0\n",
      "0\n",
      "0\n",
      "1\n"
     ]
    }
   ],
   "source": [
    "def AND(x1, x2):\n",
    "    w1, w2, theta = 0.5, 0.5, 0.7\n",
    "    tmp = x1*w1 + x2*w2\n",
    "    if tmp <= theta:\n",
    "        return 0\n",
    "    elif tmp > theta:\n",
    "        return 1\n",
    "\n",
    "print(AND(0,0)) # 0\n",
    "print(AND(1,0)) # 0\n",
    "print(AND(0,1)) # 0\n",
    "print(AND(1,1)) # 1\n",
    "\n",
    "# w1*x1+w2*x2 <=> theta。w1,w2为权重， theta为阈值\n",
    "# 修改为w1*x1+w2*x2+b <=> 0/1：w1,w2为权重，b为偏置（决定神经元被激活的难易程度）"
   ]
  },
  {
   "cell_type": "code",
   "execution_count": 5,
   "metadata": {},
   "outputs": [
    {
     "name": "stdout",
     "output_type": "stream",
     "text": [
      "0\n",
      "1\n",
      "1\n",
      "0\n"
     ]
    }
   ],
   "source": [
    "import numpy as np\n",
    "def AND(x1, x2):\n",
    "    x = np.array([x1, x2])\n",
    "    w = np.array([0.5, 0.5])\n",
    "    b = -0.7\n",
    "    tmp = np.sum(w*x) + b\n",
    "    if tmp <= 0:\n",
    "        return 0\n",
    "    else:\n",
    "        return 1\n",
    "#print(AND(0,0)) # 0\n",
    "#print(AND(1,0)) # 0\n",
    "#print(AND(0,1)) # 0\n",
    "#print(AND(1,1)) # 1\n",
    "\n",
    "def NAND(x1, x2):\n",
    "    x = np.array([x1, x2])\n",
    "    w = np.array([-0.5, -0.5])\n",
    "    b = 0.7\n",
    "    tmp = np.sum(w*x) + b\n",
    "    if tmp <= 0:\n",
    "        return 0\n",
    "    else:\n",
    "        return 1\n",
    "#print(NAND(0,0)) # 1\n",
    "#print(NAND(1,0)) # 1\n",
    "#print(NAND(0,1)) # 1\n",
    "#print(NAND(1,1)) # 0\n",
    "\n",
    "def OR(x1, x2):\n",
    "    x = np.array([x1, x2])\n",
    "    w = np.array([0.5, 0.5])\n",
    "    b = -0.2\n",
    "    tmp = np.sum(w*x) + b\n",
    "    if tmp <= 0:\n",
    "        return 0\n",
    "    else:\n",
    "        return 1\n",
    "#print(OR(0,0)) # 0\n",
    "#print(OR(1,0)) # 1\n",
    "#print(OR(0,1)) # 1\n",
    "#print(OR(1,1)) # 1\n",
    "    \n",
    "def XOR(x1, x2):\n",
    "    s1 = NAND(x1, x2)\n",
    "    s2 = OR(x1, x2)\n",
    "    y = AND(s1, s2)\n",
    "    return y\n",
    "\n",
    "print(XOR(0,0)) # 0\n",
    "print(XOR(1,0)) # 1\n",
    "print(XOR(0,1)) # 1\n",
    "print(XOR(1,1)) # 0"
   ]
  },
  {
   "cell_type": "markdown",
   "metadata": {},
   "source": [
    "# ch03 神经网络\n",
    "a = b+w1x1+w2x2\n",
    "y=h(a)   h为激活函数"
   ]
  },
  {
   "cell_type": "code",
   "execution_count": 12,
   "metadata": {},
   "outputs": [
    {
     "name": "stdout",
     "output_type": "stream",
     "text": [
      "[0 1 1]\n",
      "1\n"
     ]
    },
    {
     "data": {
      "image/png": "[encoded data removed]",
      "text/plain": [
       "<Figure size 432x288 with 1 Axes>"
      ]
     },
     "metadata": {},
     "output_type": "display_data"
    }
   ],
   "source": [
    "import numpy as np\n",
    "import matplotlib.pyplot as plt\n",
    "#阶跃函数\n",
    "# def step_function(x):\n",
    "#     if x > 0:\n",
    "#         return 1\n",
    "#     else:\n",
    "#         return 0\n",
    "\n",
    "#支持array\n",
    "def step_function(x):\n",
    "    return np.array(x > 0, dtype=np.int)\n",
    "\n",
    "x = np.array([-1.0, 1.0, 2.0])\n",
    "print(step_function(x))    # [0 1 1]\n",
    "x = 3\n",
    "print(step_function(x)) # 1\n",
    "\n",
    "x = np.arange(-5.0, 5.0, 0.1)\n",
    "y = step_function(x)\n",
    "plt.plot(x, y)\n",
    "plt.ylim(-0.1, 1.1)\n",
    "\n",
    "# sigmoid 函数\n",
    "def sigmoid(x):\n",
    "    return 1 / (1 + np.exp(-x))\n",
    "x1 = np.arange(-5.0, 5.0, 0.1)\n",
    "y1 = sigmoid(x1)\n",
    "plt.plot(x1, y1)\n",
    "plt.show()\n",
    "\n",
    "# ReLU函数 Rectified Linear Unit)\n",
    "# h(x) : x when x>0, 0 when x<=0\n",
    "def relu(x):\n",
    "    return np.maximum(0, x)\n",
    "\n"
   ]
  }
 ],
 "metadata": {
  "kernelspec": {
   "display_name": "Python 3",
   "language": "python",
   "name": "python3"
  },
  "language_info": {
   "codemirror_mode": {
    "name": "ipython",
    "version": 3
   },
   "file_extension": ".py",
   "mimetype": "text/x-python",
   "name": "python",
   "nbconvert_exporter": "python",
   "pygments_lexer": "ipython3",
   "version": "3.6.5"
  }
 },
 "nbformat": 4,
 "nbformat_minor": 2
}
