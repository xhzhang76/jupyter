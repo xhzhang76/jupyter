{
 "cells": [
  {
   "cell_type": "markdown",
   "metadata": {},
   "source": [
    "# 标题\n",
    "## 这是二级标题\n",
    "###### 这是六级标题"
   ]
  },
  {
   "cell_type": "markdown",
   "metadata": {},
   "source": [
    "# 强调\n",
    "*斜体1*\n",
    "_斜体2_\n",
    "**黑体**\n",
    "__黑体2__\n",
    "~~删除线~~\n",
    "\n",
    "_You **can** combine them_\n",
    "\n",
    "这是一个___~~黑斜体删除线组合~~___ 的样例"
   ]
  },
  {
   "cell_type": "markdown",
   "metadata": {},
   "source": [
    "# 列表\n",
    "## 无序列表（-+*）\n",
    "- 动物\n",
    " - 哺乳动物\n",
    "   - 四足\n",
    "   - 双足\n",
    " - 鸟类\n",
    " \n",
    "+ 动物\n",
    " + 哺乳动物\n",
    "   + 四足\n",
    "   + 双足\n",
    " + 鸟类\n",
    " \n",
    "* 动物\n",
    " * 哺乳动物\n",
    "   * **四足**\n",
    "   * 双足\n",
    " * 鸟类\n",
    " \n",
    "## 有序列表\n",
    "1. Item 1\n",
    "1. Item 2\n",
    " * Item 2a（无序）\n",
    " * Item 2b（无序）\n",
    "1. Item 3\n",
    " 2. Item 3a\n",
    " 2. Item 3b"
   ]
  },
  {
   "cell_type": "markdown",
   "metadata": {},
   "source": [
    "# 引用blockquotes\n",
    "> We're living the future so\n",
    "> the present is our past."
   ]
  },
  {
   "cell_type": "markdown",
   "metadata": {},
   "source": [
    "# 代码\n",
    "## 行内代码\n",
    "` print(\"hello world\") `\n",
    "\n",
    "## 代码块\n",
    "```\n",
    "def f():\n",
    "    print(\"f() called\")\n",
    "```"
   ]
  },
  {
   "cell_type": "markdown",
   "metadata": {},
   "source": [
    "# 分割线（*-）\n",
    "下面是分割线\n",
    "***\n",
    "\n",
    "下面还是分割线\n",
    "\n",
    "---\n"
   ]
  },
  {
   "attachments": {
    "%E5%9B%BE%E7%89%87.png": {
     "image/png": "[encoded data removed]"
    }
   },
   "cell_type": "markdown",
   "metadata": {},
   "source": [
    "# 对象新区\n",
    "## 表格\n",
    "竖线（|）用于分栏，短横线（-）用于分割表头和其余部分，冒号（:）用于标记表格内容的对齐方式（默认为左对齐）。\n",
    "\n",
    "[生成表格](https://www.tablesgenerator.com/markdown_tables)\n",
    "\n",
    "|序号|姓名|身份证|家庭住址|\n",
    "|:-:|:-|-:|:-|\n",
    "|1|张三|330302197801182323|上海市黄浦区|\n",
    "|2|李四|310103198908081234|上海市浦东|\n",
    "\n",
    "## 图像?\n",
    "` ![Github](url \"title\")（添加在线图片）`\n",
    "\n",
    "` ![Github](/images/logo.png \"title\")（添加本地图片） `\n",
    "\n",
    "***图片必须放在程序所在文件夹或所在文件夹的子文件夹下***\n",
    "![图片](/SS/222.png \"测试\")\n",
    "\n",
    "![%E5%9B%BE%E7%89%87.png](attachment:%E5%9B%BE%E7%89%87.png)\n",
    "\n",
    "## 链接\n",
    "` [名称](地址 \"标题\") `\n",
    "\n",
    "[github链接](http://github.com \"title\")\n",
    "\n",
    "## 公式\n",
    "\n",
    "[在线生成公式](https://www.codecogs.com/latex/eqneditor.php \"latex公式\")\n",
    "### 公式\n",
    "$E=mc^2$\n",
    "\n",
    "### 公式块\n",
    "$$\n",
    "e^{i\\theta} = \\cos \\theta +i\\sin \\theta \\\n",
    "e^z = 1 + \\frac{z}{1!} + \\frac{z^2}{2!} + \\frac{z^3}{3!} + \\cdots = \\sum_{n=0}^{\\infty}\\frac{z^n}{n!}\n",
    "$$"
   ]
  },
  {
   "cell_type": "markdown",
   "metadata": {},
   "source": [
    "**转义符为 \\**"
   ]
  },
  {
   "cell_type": "markdown",
   "metadata": {},
   "source": [
    "# 脚注？\n",
    "[^1]: 文末脚注，参考资料\n",
    "[^1] 文中脚注"
   ]
  }
 ],
 "metadata": {
  "kernelspec": {
   "display_name": "Python 3",
   "language": "python",
   "name": "python3"
  },
  "language_info": {
   "codemirror_mode": {
    "name": "ipython",
    "version": 3
   },
   "file_extension": ".py",
   "mimetype": "text/x-python",
   "name": "python",
   "nbconvert_exporter": "python",
   "pygments_lexer": "ipython3",
   "version": "3.6.5"
  }
 },
 "nbformat": 4,
 "nbformat_minor": 2
}
